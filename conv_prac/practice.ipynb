{
 "cells": [
  {
   "cell_type": "code",
   "execution_count": 1,
   "metadata": {
    "collapsed": false
   },
   "outputs": [],
   "source": [
    "%matplotlib inline\n",
    "\n",
    "import numpy as np # linear algebra\n",
    "import pandas as pd # data processing, CSV file I/O (e.g. pd.read_csv)\n",
    "import dicom\n",
    "import os\n",
    "import scipy.ndimage\n",
    "import matplotlib.pyplot as plt\n",
    "\n",
    "from skimage import measure, morphology\n",
    "from mpl_toolkits.mplot3d.art3d import Poly3DCollection"
   ]
  },
  {
   "cell_type": "code",
   "execution_count": 2,
   "metadata": {
    "collapsed": true
   },
   "outputs": [],
   "source": [
    "INPUT_FOLDER = './sample_images/'\n",
    "patients = os.listdir(INPUT_FOLDER)\n",
    "patients.sort()"
   ]
  },
  {
   "cell_type": "code",
   "execution_count": 80,
   "metadata": {
    "collapsed": false
   },
   "outputs": [],
   "source": [
    "labels = pd.read_csv('stage1_labels.csv')"
   ]
  },
  {
   "cell_type": "code",
   "execution_count": 82,
   "metadata": {
    "collapsed": false
   },
   "outputs": [],
   "source": [
    "id = labels[\"id\"].tolist()\n",
    "cancer = labels[\"cancer\"].tolist()"
   ]
  },
  {
   "cell_type": "code",
   "execution_count": 97,
   "metadata": {
    "collapsed": false
   },
   "outputs": [],
   "source": [
    "y_data = []\n",
    "for target in patients:\n",
    "    if target in id:\n",
    "        y_data.append(cancer[id.index(target)])\n",
    "    else:\n",
    "        print(target)\n",
    "        continue\n",
    "        "
   ]
  },
  {
   "cell_type": "code",
   "execution_count": 137,
   "metadata": {
    "collapsed": true
   },
   "outputs": [],
   "source": []
  },
  {
   "cell_type": "code",
   "execution_count": 141,
   "metadata": {
    "collapsed": true
   },
   "outputs": [],
   "source": [
    "cancer_class = [[1,0],[0,1]]\n",
    "y_labels = []\n",
    "for i in y_data:\n",
    "    y_labels.append(cancer_class[i])    "
   ]
  },
  {
   "cell_type": "code",
   "execution_count": 3,
   "metadata": {
    "collapsed": true
   },
   "outputs": [],
   "source": [
    "# Load the scans in given folder path\n",
    "def load_scan(path):\n",
    "    slices = [dicom.read_file(path + '/' + s) for s in os.listdir(path)]\n",
    "    slices.sort(key = lambda x: float(x.ImagePositionPatient[2]))\n",
    "    try:\n",
    "        slice_thickness = np.abs(slices[0].ImagePositionPatient[2] - slices[1].ImagePositionPatient[2])\n",
    "    except:\n",
    "        slice_thickness = np.abs(slices[0].SliceLocation - slices[1].SliceLocation)\n",
    "        \n",
    "    for s in slices:\n",
    "        s.SliceThickness = slice_thickness\n",
    "        \n",
    "    return slices"
   ]
  },
  {
   "cell_type": "code",
   "execution_count": 5,
   "metadata": {
    "collapsed": true
   },
   "outputs": [],
   "source": [
    "def get_pixels_hu(slices):\n",
    "    image = np.stack([s.pixel_array for s in slices])\n",
    "    # Convert to int16 (from sometimes int16), \n",
    "    # should be possible as values should always be low enough (<32k)\n",
    "    image = image.astype(np.int16)\n",
    "\n",
    "    # Set outside-of-scan pixels to 0\n",
    "    # The intercept is usually -1024, so air is approximately 0\n",
    "    image[image == -2000] = 0\n",
    "    \n",
    "    # Convert to Hounsfield units (HU)\n",
    "    for slice_number in range(len(slices)):\n",
    "        \n",
    "        intercept = slices[slice_number].RescaleIntercept\n",
    "        slope = slices[slice_number].RescaleSlope\n",
    "        \n",
    "        if slope != 1:\n",
    "            image[slice_number] = slope * image[slice_number].astype(np.float64)\n",
    "            image[slice_number] = image[slice_number].astype(np.int16)\n",
    "            \n",
    "        image[slice_number] += np.int16(intercept)\n",
    "    \n",
    "    return np.array(image, dtype=np.int16)"
   ]
  },
  {
   "cell_type": "code",
   "execution_count": 9,
   "metadata": {
    "collapsed": false
   },
   "outputs": [],
   "source": [
    "first_patient = load_scan(INPUT_FOLDER + patients[0])\n",
    "first_patient_pixels = get_pixels_hu(first_patient)\n",
    "# plt.hist(first_patient_pixels.flatten(), bins=80, color='c')\n",
    "# plt.xlabel(\"Hounsfield Units (HU)\")\n",
    "# plt.ylabel(\"Frequency\")\n",
    "# plt.show()\n",
    "\n",
    "# # Show some slice in the middle\n",
    "# plt.imshow(first_patient_pixels[80], cmap=plt.cm.gray)\n",
    "# plt.show()"
   ]
  },
  {
   "cell_type": "code",
   "execution_count": 28,
   "metadata": {
    "collapsed": true
   },
   "outputs": [],
   "source": [
    "def resample(image, scan, new_spacing=[1,1,1]):\n",
    "    # Determine current pixel spacing\n",
    "    spacing = np.array([scan[0].SliceThickness] + scan[0].PixelSpacing, dtype=np.float32)\n",
    "\n",
    "    resize_factor = spacing / new_spacing\n",
    "    new_real_shape = image.shape * resize_factor\n",
    "    new_shape = np.round(new_real_shape)\n",
    "    real_resize_factor = new_shape / image.shape\n",
    "    new_spacing = spacing / real_resize_factor\n",
    "    \n",
    "    image = scipy.ndimage.interpolation.zoom(image, real_resize_factor, mode='nearest')\n",
    "    \n",
    "    return image, new_spacing"
   ]
  },
  {
   "cell_type": "code",
   "execution_count": 103,
   "metadata": {
    "collapsed": false
   },
   "outputs": [],
   "source": [
    "input_data = []\n",
    "for i in patients:\n",
    "    patient = load_scan(INPUT_FOLDER + i)\n",
    "    patient_pixels = get_pixels_hu(patient)\n",
    "    input_data.append(patient_pixels)"
   ]
  },
  {
   "cell_type": "code",
   "execution_count": 111,
   "metadata": {
    "collapsed": false
   },
   "outputs": [],
   "source": [
    "input_data = np.array(input_data)"
   ]
  },
  {
   "cell_type": "code",
   "execution_count": 11,
   "metadata": {
    "collapsed": true
   },
   "outputs": [],
   "source": [
    "MIN_BOUND = -1000.0\n",
    "MAX_BOUND = 400.0\n",
    "    \n",
    "def normalize(image):\n",
    "    image = (image - MIN_BOUND) / (MAX_BOUND - MIN_BOUND)\n",
    "    image[image>1] = 1.\n",
    "    image[image<0] = 0.\n",
    "    return image"
   ]
  },
  {
   "cell_type": "code",
   "execution_count": 12,
   "metadata": {
    "collapsed": true
   },
   "outputs": [],
   "source": [
    "PIXEL_MEAN = 0.25\n",
    "\n",
    "def zero_center(image):\n",
    "    image = image - PIXEL_MEAN\n",
    "    return image"
   ]
  },
  {
   "cell_type": "code",
   "execution_count": 118,
   "metadata": {
    "collapsed": true
   },
   "outputs": [],
   "source": [
    "rectified_data = []\n",
    "for row in input_data:\n",
    "    norm = normalize(row)\n",
    "    zero = zero_center(norm)\n",
    "    rectified_data.append(zero)"
   ]
  },
  {
   "cell_type": "code",
   "execution_count": 165,
   "metadata": {
    "collapsed": false
   },
   "outputs": [],
   "source": [
    "def get_onehot(data):\n",
    "    onehot_data = []\n",
    "    for person in range(len(data)):\n",
    "        temp = []\n",
    "        for pic in data[person]:\n",
    "            temp1 = pic.reshape(-1)\n",
    "            temp.append(np.array(temp1))\n",
    "        onehot_data.append(np.array(temp))\n",
    "    return np.array(onehot_data)"
   ]
  },
  {
   "cell_type": "code",
   "execution_count": 166,
   "metadata": {
    "collapsed": false
   },
   "outputs": [],
   "source": [
    "onehot = get_onehot(rectified_data)"
   ]
  },
  {
   "cell_type": "code",
   "execution_count": 176,
   "metadata": {
    "collapsed": false
   },
   "outputs": [
    {
     "data": {
      "text/plain": [
       "array([ array([[-0.25, -0.25, -0.25, ..., -0.25, -0.25, -0.25],\n",
       "       [-0.25, -0.25, -0.25, ..., -0.25, -0.25, -0.25],\n",
       "       [-0.25, -0.25, -0.25, ..., -0.25, -0.25, -0.25],\n",
       "       ..., \n",
       "       [-0.25, -0.25, -0.25, ..., -0.25, -0.25, -0.25],\n",
       "       [-0.25, -0.25, -0.25, ..., -0.25, -0.25, -0.25],\n",
       "       [-0.25, -0.25, -0.25, ..., -0.25, -0.25, -0.25]]),\n",
       "       array([[-0.25, -0.25, -0.25, ..., -0.25, -0.25, -0.25],\n",
       "       [-0.25, -0.25, -0.25, ..., -0.25, -0.25, -0.25],\n",
       "       [-0.25, -0.25, -0.25, ..., -0.25, -0.25, -0.25],\n",
       "       ..., \n",
       "       [-0.25, -0.25, -0.25, ..., -0.25, -0.25, -0.25],\n",
       "       [-0.25, -0.25, -0.25, ..., -0.25, -0.25, -0.25],\n",
       "       [-0.25, -0.25, -0.25, ..., -0.25, -0.25, -0.25]]),\n",
       "       array([[-0.25, -0.25, -0.25, ..., -0.25, -0.25, -0.25],\n",
       "       [-0.25, -0.25, -0.25, ..., -0.25, -0.25, -0.25],\n",
       "       [-0.25, -0.25, -0.25, ..., -0.25, -0.25, -0.25],\n",
       "       ..., \n",
       "       [-0.25, -0.25, -0.25, ..., -0.25, -0.25, -0.25],\n",
       "       [-0.25, -0.25, -0.25, ..., -0.25, -0.25, -0.25],\n",
       "       [-0.25, -0.25, -0.25, ..., -0.25, -0.25, -0.25]]),\n",
       "       array([[-0.25, -0.25, -0.25, ..., -0.25, -0.25, -0.25],\n",
       "       [-0.25, -0.25, -0.25, ..., -0.25, -0.25, -0.25],\n",
       "       [-0.25, -0.25, -0.25, ..., -0.25, -0.25, -0.25],\n",
       "       ..., \n",
       "       [-0.25, -0.25, -0.25, ..., -0.25, -0.25, -0.25],\n",
       "       [-0.25, -0.25, -0.25, ..., -0.25, -0.25, -0.25],\n",
       "       [-0.25, -0.25, -0.25, ..., -0.25, -0.25, -0.25]]),\n",
       "       array([[-0.25      , -0.25      , -0.25      , ..., -0.18857143,\n",
       "        -0.18285714, -0.17571429],\n",
       "       [-0.24571429, -0.25      , -0.25      , ..., -0.19214286,\n",
       "        -0.18785714, -0.17714286],\n",
       "       [-0.23571429, -0.24357143, -0.24714286, ..., -0.19571429,\n",
       "        -0.18642857, -0.17357143],\n",
       "       ..., \n",
       "       [-0.25      , -0.25      , -0.25      , ..., -0.18      ,\n",
       "        -0.18      , -0.17571429],\n",
       "       [-0.25      , -0.25      , -0.25      , ..., -0.19214286,\n",
       "        -0.18785714, -0.18071429],\n",
       "       [-0.25      , -0.25      , -0.25      , ..., -0.19071429,\n",
       "        -0.18571429, -0.18142857]]),\n",
       "       array([[-0.25, -0.25, -0.25, ..., -0.25, -0.25, -0.25],\n",
       "       [-0.25, -0.25, -0.25, ..., -0.25, -0.25, -0.25],\n",
       "       [-0.25, -0.25, -0.25, ..., -0.25, -0.25, -0.25],\n",
       "       ..., \n",
       "       [-0.25, -0.25, -0.25, ..., -0.25, -0.25, -0.25],\n",
       "       [-0.25, -0.25, -0.25, ..., -0.25, -0.25, -0.25],\n",
       "       [-0.25, -0.25, -0.25, ..., -0.25, -0.25, -0.25]]),\n",
       "       array([[-0.25, -0.25, -0.25, ..., -0.25, -0.25, -0.25],\n",
       "       [-0.25, -0.25, -0.25, ..., -0.25, -0.25, -0.25],\n",
       "       [-0.25, -0.25, -0.25, ..., -0.25, -0.25, -0.25],\n",
       "       ..., \n",
       "       [-0.25, -0.25, -0.25, ..., -0.25, -0.25, -0.25],\n",
       "       [-0.25, -0.25, -0.25, ..., -0.25, -0.25, -0.25],\n",
       "       [-0.25, -0.25, -0.25, ..., -0.25, -0.25, -0.25]]),\n",
       "       array([[-0.25, -0.25, -0.25, ..., -0.25, -0.25, -0.25],\n",
       "       [-0.25, -0.25, -0.25, ..., -0.25, -0.25, -0.25],\n",
       "       [-0.25, -0.25, -0.25, ..., -0.25, -0.25, -0.25],\n",
       "       ..., \n",
       "       [-0.25, -0.25, -0.25, ..., -0.25, -0.25, -0.25],\n",
       "       [-0.25, -0.25, -0.25, ..., -0.25, -0.25, -0.25],\n",
       "       [-0.25, -0.25, -0.25, ..., -0.25, -0.25, -0.25]]),\n",
       "       array([[-0.25, -0.25, -0.25, ..., -0.25, -0.25, -0.25],\n",
       "       [-0.25, -0.25, -0.25, ..., -0.25, -0.25, -0.25],\n",
       "       [-0.25, -0.25, -0.25, ..., -0.25, -0.25, -0.25],\n",
       "       ..., \n",
       "       [-0.25, -0.25, -0.25, ..., -0.25, -0.25, -0.25],\n",
       "       [-0.25, -0.25, -0.25, ..., -0.25, -0.25, -0.25],\n",
       "       [-0.25, -0.25, -0.25, ..., -0.25, -0.25, -0.25]]),\n",
       "       array([[-0.25, -0.25, -0.25, ..., -0.25, -0.25, -0.25],\n",
       "       [-0.25, -0.25, -0.25, ..., -0.25, -0.25, -0.25],\n",
       "       [-0.25, -0.25, -0.25, ..., -0.25, -0.25, -0.25],\n",
       "       ..., \n",
       "       [-0.25, -0.25, -0.25, ..., -0.25, -0.25, -0.25],\n",
       "       [-0.25, -0.25, -0.25, ..., -0.25, -0.25, -0.25],\n",
       "       [-0.25, -0.25, -0.25, ..., -0.25, -0.25, -0.25]]),\n",
       "       array([[-0.25      , -0.25      , -0.24857143, ..., -0.22285714,\n",
       "        -0.18142857, -0.17857143],\n",
       "       [-0.24357143, -0.23285714, -0.24214286, ..., -0.17571429,\n",
       "        -0.14714286, -0.19285714],\n",
       "       [-0.25      , -0.25      , -0.25      , ..., -0.19142857,\n",
       "        -0.17357143, -0.18714286],\n",
       "       ..., \n",
       "       [-0.24285714, -0.25      , -0.24642857, ..., -0.20071429,\n",
       "        -0.19357143, -0.18714286],\n",
       "       [-0.25      , -0.25      , -0.23928571, ..., -0.19285714,\n",
       "        -0.19571429, -0.19357143],\n",
       "       [-0.25      , -0.25      , -0.24214286, ..., -0.18285714,\n",
       "        -0.18357143, -0.20071429]]),\n",
       "       array([[-0.25, -0.25, -0.25, ..., -0.25, -0.25, -0.25],\n",
       "       [-0.25, -0.25, -0.25, ..., -0.25, -0.25, -0.25],\n",
       "       [-0.25, -0.25, -0.25, ..., -0.25, -0.25, -0.25],\n",
       "       ..., \n",
       "       [-0.25, -0.25, -0.25, ..., -0.25, -0.25, -0.25],\n",
       "       [-0.25, -0.25, -0.25, ..., -0.25, -0.25, -0.25],\n",
       "       [-0.25, -0.25, -0.25, ..., -0.25, -0.25, -0.25]]),\n",
       "       array([[-0.25, -0.25, -0.25, ..., -0.25, -0.25, -0.25],\n",
       "       [-0.25, -0.25, -0.25, ..., -0.25, -0.25, -0.25],\n",
       "       [-0.25, -0.25, -0.25, ..., -0.25, -0.25, -0.25],\n",
       "       ..., \n",
       "       [-0.25, -0.25, -0.25, ..., -0.25, -0.25, -0.25],\n",
       "       [-0.25, -0.25, -0.25, ..., -0.25, -0.25, -0.25],\n",
       "       [-0.25, -0.25, -0.25, ..., -0.25, -0.25, -0.25]]),\n",
       "       array([[-0.25, -0.25, -0.25, ..., -0.25, -0.25, -0.25],\n",
       "       [-0.25, -0.25, -0.25, ..., -0.25, -0.25, -0.25],\n",
       "       [-0.25, -0.25, -0.25, ..., -0.25, -0.25, -0.25],\n",
       "       ..., \n",
       "       [-0.25, -0.25, -0.25, ..., -0.25, -0.25, -0.25],\n",
       "       [-0.25, -0.25, -0.25, ..., -0.25, -0.25, -0.25],\n",
       "       [-0.25, -0.25, -0.25, ..., -0.25, -0.25, -0.25]]),\n",
       "       array([[-0.25, -0.25, -0.25, ..., -0.25, -0.25, -0.25],\n",
       "       [-0.25, -0.25, -0.25, ..., -0.25, -0.25, -0.25],\n",
       "       [-0.25, -0.25, -0.25, ..., -0.25, -0.25, -0.25],\n",
       "       ..., \n",
       "       [-0.25, -0.25, -0.25, ..., -0.25, -0.25, -0.25],\n",
       "       [-0.25, -0.25, -0.25, ..., -0.25, -0.25, -0.25],\n",
       "       [-0.25, -0.25, -0.25, ..., -0.25, -0.25, -0.25]]),\n",
       "       array([[-0.25, -0.25, -0.25, ..., -0.25, -0.25, -0.25],\n",
       "       [-0.25, -0.25, -0.25, ..., -0.25, -0.25, -0.25],\n",
       "       [-0.25, -0.25, -0.25, ..., -0.25, -0.25, -0.25],\n",
       "       ..., \n",
       "       [-0.25, -0.25, -0.25, ..., -0.25, -0.25, -0.25],\n",
       "       [-0.25, -0.25, -0.25, ..., -0.25, -0.25, -0.25],\n",
       "       [-0.25, -0.25, -0.25, ..., -0.25, -0.25, -0.25]]),\n",
       "       array([[-0.25, -0.25, -0.25, ..., -0.25, -0.25, -0.25],\n",
       "       [-0.25, -0.25, -0.25, ..., -0.25, -0.25, -0.25],\n",
       "       [-0.25, -0.25, -0.25, ..., -0.25, -0.25, -0.25],\n",
       "       ..., \n",
       "       [-0.25, -0.25, -0.25, ..., -0.25, -0.25, -0.25],\n",
       "       [-0.25, -0.25, -0.25, ..., -0.25, -0.25, -0.25],\n",
       "       [-0.25, -0.25, -0.25, ..., -0.25, -0.25, -0.25]]),\n",
       "       array([[-0.25, -0.25, -0.25, ..., -0.25, -0.25, -0.25],\n",
       "       [-0.25, -0.25, -0.25, ..., -0.25, -0.25, -0.25],\n",
       "       [-0.25, -0.25, -0.25, ..., -0.25, -0.25, -0.25],\n",
       "       ..., \n",
       "       [-0.25, -0.25, -0.25, ..., -0.25, -0.25, -0.25],\n",
       "       [-0.25, -0.25, -0.25, ..., -0.25, -0.25, -0.25],\n",
       "       [-0.25, -0.25, -0.25, ..., -0.25, -0.25, -0.25]]),\n",
       "       array([[-0.25, -0.25, -0.25, ..., -0.25, -0.25, -0.25],\n",
       "       [-0.25, -0.25, -0.25, ..., -0.25, -0.25, -0.25],\n",
       "       [-0.25, -0.25, -0.25, ..., -0.25, -0.25, -0.25],\n",
       "       ..., \n",
       "       [-0.25, -0.25, -0.25, ..., -0.25, -0.25, -0.25],\n",
       "       [-0.25, -0.25, -0.25, ..., -0.25, -0.25, -0.25],\n",
       "       [-0.25, -0.25, -0.25, ..., -0.25, -0.25, -0.25]])], dtype=object)"
      ]
     },
     "execution_count": 176,
     "metadata": {},
     "output_type": "execute_result"
    }
   ],
   "source": [
    "onehot"
   ]
  },
  {
   "cell_type": "code",
   "execution_count": 168,
   "metadata": {
    "collapsed": false
   },
   "outputs": [
    {
     "data": {
      "text/plain": [
       "dtype('float64')"
      ]
     },
     "execution_count": 168,
     "metadata": {},
     "output_type": "execute_result"
    }
   ],
   "source": [
    "np.array(onehot[0]).dtype"
   ]
  },
  {
   "cell_type": "code",
   "execution_count": 13,
   "metadata": {
    "collapsed": true
   },
   "outputs": [],
   "source": [
    "import tensorflow as tf"
   ]
  },
  {
   "cell_type": "code",
   "execution_count": 169,
   "metadata": {
    "collapsed": false
   },
   "outputs": [],
   "source": [
    "x = tf.placeholder(tf.float64, [None, 512*512])\n",
    "input_x = tf.reshape(x, [-1, 512, 512, 3])\n",
    "input_y = tf.placeholder(tf.float64, [None, 2])"
   ]
  },
  {
   "cell_type": "code",
   "execution_count": 146,
   "metadata": {
    "collapsed": true
   },
   "outputs": [],
   "source": [
    "filter_w = tf.Variable(tf.truncated_normal([5, 5, 3, 3], stddev = 0.1))\n",
    "filter_b = tf.Variable(tf.truncated_normal([3]))"
   ]
  },
  {
   "cell_type": "code",
   "execution_count": 154,
   "metadata": {
    "collapsed": true
   },
   "outputs": [],
   "source": [
    "conv = tf.nn.conv2d(input_x, filter_w, strides=[1, 2, 2, 1], padding=\"VALID\")"
   ]
  },
  {
   "cell_type": "code",
   "execution_count": 155,
   "metadata": {
    "collapsed": true
   },
   "outputs": [],
   "source": [
    "h_1 = tf.nn.relu(tf.nn.bias_add(conv, filter_b))"
   ]
  },
  {
   "cell_type": "code",
   "execution_count": 156,
   "metadata": {
    "collapsed": true
   },
   "outputs": [],
   "source": [
    "pool_1 = tf.nn.max_pool(h_1, ksize=[1, 2, 2, 1], strides=[1, 2, 2, 1], padding='VALID')"
   ]
  },
  {
   "cell_type": "code",
   "execution_count": 160,
   "metadata": {
    "collapsed": true
   },
   "outputs": [],
   "source": [
    "pool_flat = tf.reshape(pool_1, [-1, 127*127*3])"
   ]
  },
  {
   "cell_type": "code",
   "execution_count": 158,
   "metadata": {
    "collapsed": true
   },
   "outputs": [],
   "source": [
    "W_fc = tf.Variable(tf.random_normal([127*127*3, 2], stddev=0.1))\n",
    "b_fc = tf.Variable(tf.random_normal([2], stddev=0.1))"
   ]
  },
  {
   "cell_type": "code",
   "execution_count": 162,
   "metadata": {
    "collapsed": false
   },
   "outputs": [],
   "source": [
    "hypothesis = tf.nn.softmax(tf.matmul(pool_flat, W_fc) + b_fc)\n",
    "cost = -tf.reduce_sum(input_y * tf.log(tf.clip_by_value(hypothesis,1e-10,1.0)))\n",
    "train_step = tf.train.AdamOptimizer(0.01, epsilon=0.05).minimize(cost)"
   ]
  },
  {
   "cell_type": "code",
   "execution_count": 163,
   "metadata": {
    "collapsed": true
   },
   "outputs": [],
   "source": [
    "init = tf.global_variables_initializer()\n",
    "sess = tf.Session()\n",
    "sess.run(init)"
   ]
  },
  {
   "cell_type": "code",
   "execution_count": 175,
   "metadata": {
    "collapsed": false
   },
   "outputs": [
    {
     "ename": "ValueError",
     "evalue": "setting an array element with a sequence.",
     "output_type": "error",
     "traceback": [
      "\u001b[0;31m---------------------------------------------------------------------------\u001b[0m",
      "\u001b[0;31mValueError\u001b[0m                                Traceback (most recent call last)",
      "\u001b[0;32m<ipython-input-175-3bd94a769c2c>\u001b[0m in \u001b[0;36m<module>\u001b[0;34m()\u001b[0m\n\u001b[1;32m      1\u001b[0m \u001b[1;32mfor\u001b[0m \u001b[0mi\u001b[0m \u001b[1;32min\u001b[0m \u001b[0mrange\u001b[0m\u001b[1;33m(\u001b[0m\u001b[1;36m10001\u001b[0m\u001b[1;33m)\u001b[0m\u001b[1;33m:\u001b[0m\u001b[1;33m\u001b[0m\u001b[0m\n\u001b[0;32m----> 2\u001b[0;31m     \u001b[0msess\u001b[0m\u001b[1;33m.\u001b[0m\u001b[0mrun\u001b[0m\u001b[1;33m(\u001b[0m\u001b[0mtrain_step\u001b[0m\u001b[1;33m,\u001b[0m \u001b[0mfeed_dict\u001b[0m\u001b[1;33m=\u001b[0m\u001b[1;33m{\u001b[0m\u001b[0mx\u001b[0m\u001b[1;33m:\u001b[0m \u001b[0monehot\u001b[0m\u001b[1;33m,\u001b[0m \u001b[0minput_y\u001b[0m\u001b[1;33m:\u001b[0m \u001b[0my_labels\u001b[0m\u001b[1;33m}\u001b[0m\u001b[1;33m)\u001b[0m\u001b[1;33m\u001b[0m\u001b[0m\n\u001b[0m\u001b[1;32m      3\u001b[0m     \u001b[1;32mif\u001b[0m \u001b[0mi\u001b[0m \u001b[1;33m%\u001b[0m \u001b[1;36m1000\u001b[0m \u001b[1;33m==\u001b[0m \u001b[1;36m0\u001b[0m\u001b[1;33m:\u001b[0m\u001b[1;33m\u001b[0m\u001b[0m\n\u001b[1;32m      4\u001b[0m         \u001b[0mprint\u001b[0m\u001b[1;33m(\u001b[0m\u001b[0mi\u001b[0m\u001b[1;33m,\u001b[0m \u001b[0msess\u001b[0m\u001b[1;33m.\u001b[0m\u001b[0mrun\u001b[0m\u001b[1;33m(\u001b[0m\u001b[0mcost\u001b[0m\u001b[1;33m,\u001b[0m \u001b[0mfeed_dict\u001b[0m\u001b[1;33m=\u001b[0m\u001b[1;33m{\u001b[0m\u001b[0mx\u001b[0m\u001b[1;33m:\u001b[0m \u001b[0monehot\u001b[0m\u001b[1;33m,\u001b[0m \u001b[0minput_y\u001b[0m\u001b[1;33m:\u001b[0m \u001b[0my_labels\u001b[0m\u001b[1;33m}\u001b[0m\u001b[1;33m)\u001b[0m\u001b[1;33m)\u001b[0m\u001b[1;33m\u001b[0m\u001b[0m\n",
      "\u001b[0;32mC:\\Users\\USER\\Miniconda3\\envs\\coursera\\lib\\site-packages\\tensorflow\\python\\client\\session.py\u001b[0m in \u001b[0;36mrun\u001b[0;34m(self, fetches, feed_dict, options, run_metadata)\u001b[0m\n\u001b[1;32m    764\u001b[0m     \u001b[1;32mtry\u001b[0m\u001b[1;33m:\u001b[0m\u001b[1;33m\u001b[0m\u001b[0m\n\u001b[1;32m    765\u001b[0m       result = self._run(None, fetches, feed_dict, options_ptr,\n\u001b[0;32m--> 766\u001b[0;31m                          run_metadata_ptr)\n\u001b[0m\u001b[1;32m    767\u001b[0m       \u001b[1;32mif\u001b[0m \u001b[0mrun_metadata\u001b[0m\u001b[1;33m:\u001b[0m\u001b[1;33m\u001b[0m\u001b[0m\n\u001b[1;32m    768\u001b[0m         \u001b[0mproto_data\u001b[0m \u001b[1;33m=\u001b[0m \u001b[0mtf_session\u001b[0m\u001b[1;33m.\u001b[0m\u001b[0mTF_GetBuffer\u001b[0m\u001b[1;33m(\u001b[0m\u001b[0mrun_metadata_ptr\u001b[0m\u001b[1;33m)\u001b[0m\u001b[1;33m\u001b[0m\u001b[0m\n",
      "\u001b[0;32mC:\\Users\\USER\\Miniconda3\\envs\\coursera\\lib\\site-packages\\tensorflow\\python\\client\\session.py\u001b[0m in \u001b[0;36m_run\u001b[0;34m(self, handle, fetches, feed_dict, options, run_metadata)\u001b[0m\n\u001b[1;32m    935\u001b[0m                 ' to a larger type (e.g. int64).')\n\u001b[1;32m    936\u001b[0m \u001b[1;33m\u001b[0m\u001b[0m\n\u001b[0;32m--> 937\u001b[0;31m           \u001b[0mnp_val\u001b[0m \u001b[1;33m=\u001b[0m \u001b[0mnp\u001b[0m\u001b[1;33m.\u001b[0m\u001b[0masarray\u001b[0m\u001b[1;33m(\u001b[0m\u001b[0msubfeed_val\u001b[0m\u001b[1;33m,\u001b[0m \u001b[0mdtype\u001b[0m\u001b[1;33m=\u001b[0m\u001b[0msubfeed_dtype\u001b[0m\u001b[1;33m)\u001b[0m\u001b[1;33m\u001b[0m\u001b[0m\n\u001b[0m\u001b[1;32m    938\u001b[0m \u001b[1;33m\u001b[0m\u001b[0m\n\u001b[1;32m    939\u001b[0m           \u001b[1;32mif\u001b[0m \u001b[1;32mnot\u001b[0m \u001b[0msubfeed_t\u001b[0m\u001b[1;33m.\u001b[0m\u001b[0mget_shape\u001b[0m\u001b[1;33m(\u001b[0m\u001b[1;33m)\u001b[0m\u001b[1;33m.\u001b[0m\u001b[0mis_compatible_with\u001b[0m\u001b[1;33m(\u001b[0m\u001b[0mnp_val\u001b[0m\u001b[1;33m.\u001b[0m\u001b[0mshape\u001b[0m\u001b[1;33m)\u001b[0m\u001b[1;33m:\u001b[0m\u001b[1;33m\u001b[0m\u001b[0m\n",
      "\u001b[0;32mC:\\Users\\USER\\Miniconda3\\envs\\coursera\\lib\\site-packages\\numpy\\core\\numeric.py\u001b[0m in \u001b[0;36masarray\u001b[0;34m(a, dtype, order)\u001b[0m\n\u001b[1;32m    529\u001b[0m \u001b[1;33m\u001b[0m\u001b[0m\n\u001b[1;32m    530\u001b[0m     \"\"\"\n\u001b[0;32m--> 531\u001b[0;31m     \u001b[1;32mreturn\u001b[0m \u001b[0marray\u001b[0m\u001b[1;33m(\u001b[0m\u001b[0ma\u001b[0m\u001b[1;33m,\u001b[0m \u001b[0mdtype\u001b[0m\u001b[1;33m,\u001b[0m \u001b[0mcopy\u001b[0m\u001b[1;33m=\u001b[0m\u001b[1;32mFalse\u001b[0m\u001b[1;33m,\u001b[0m \u001b[0morder\u001b[0m\u001b[1;33m=\u001b[0m\u001b[0morder\u001b[0m\u001b[1;33m)\u001b[0m\u001b[1;33m\u001b[0m\u001b[0m\n\u001b[0m\u001b[1;32m    532\u001b[0m \u001b[1;33m\u001b[0m\u001b[0m\n\u001b[1;32m    533\u001b[0m \u001b[1;33m\u001b[0m\u001b[0m\n",
      "\u001b[0;31mValueError\u001b[0m: setting an array element with a sequence."
     ]
    }
   ],
   "source": [
    "for i in range(10001):\n",
    "    sess.run(train_step, feed_dict={x: onehot, input_y: y_labels})\n",
    "    if i % 1000 == 0:\n",
    "        print(i, sess.run(cost, feed_dict={x: onehot, input_y: y_labels}))"
   ]
  }
 ],
 "metadata": {
  "anaconda-cloud": {},
  "kernelspec": {
   "display_name": "Python [default]",
   "language": "python",
   "name": "python3"
  },
  "language_info": {
   "codemirror_mode": {
    "name": "ipython",
    "version": 3
   },
   "file_extension": ".py",
   "mimetype": "text/x-python",
   "name": "python",
   "nbconvert_exporter": "python",
   "pygments_lexer": "ipython3",
   "version": "3.5.2"
  }
 },
 "nbformat": 4,
 "nbformat_minor": 2
}
